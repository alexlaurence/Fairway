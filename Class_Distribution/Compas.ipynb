{
 "cells": [
  {
   "cell_type": "code",
   "execution_count": 8,
   "metadata": {},
   "outputs": [],
   "source": [
    "## Here I am checking the class data distribution for privileged and unprivileged groups\n",
    "\n",
    "import pandas as pd\n",
    "import random,time,csv\n",
    "import numpy as np\n",
    "import math,copy,os\n",
    "from sklearn.linear_model import LogisticRegression\n",
    "from sklearn.tree import DecisionTreeRegressor\n",
    "from sklearn.model_selection import train_test_split\n",
    "from sklearn.metrics import classification_report, confusion_matrix, accuracy_score\n",
    "from sklearn import tree\n",
    "from sklearn.naive_bayes import GaussianNB\n",
    "from sklearn.ensemble import RandomForestClassifier\n",
    "from sklearn.svm import SVC\n",
    "\n",
    "import sys\n",
    "sys.path.append(os.path.abspath('..'))\n",
    "\n",
    "from Measure import measure_final_score,calculate_recall,calculate_far,calculate_precision,calculate_accuracy"
   ]
  },
  {
   "cell_type": "code",
   "execution_count": 10,
   "metadata": {},
   "outputs": [
    {
     "name": "stdout",
     "output_type": "stream",
     "text": [
      "(1395, 6)\n",
      "(5819, 6)\n",
      "Index(['sex', 'age_cat', 'race', 'priors_count', 'c_charge_degree',\n",
      "       'Probability'],\n",
      "      dtype='object')\n"
     ]
    }
   ],
   "source": [
    "## Load dataset\n",
    "dataset_orig = pd.read_csv('../dataset/compas-scores-two-years.csv')\n",
    "\n",
    "\n",
    "\n",
    "## Drop categorical features\n",
    "## Removed two duplicate coumns - 'decile_score','priors_count'\n",
    "dataset_orig = dataset_orig.drop(['id','name','first','last','compas_screening_date','dob','age','juv_fel_count','decile_score','juv_misd_count','juv_other_count','days_b_screening_arrest','c_jail_in','c_jail_out','c_case_number','c_offense_date','c_arrest_date','c_days_from_compas','c_charge_desc','is_recid','r_case_number','r_charge_degree','r_days_from_arrest','r_offense_date','r_charge_desc','r_jail_in','r_jail_out','violent_recid','is_violent_recid','vr_case_number','vr_charge_degree','vr_offense_date','vr_charge_desc','type_of_assessment','decile_score','score_text','screening_date','v_type_of_assessment','v_decile_score','v_score_text','v_screening_date','in_custody','out_custody','start','end','event'],axis=1)\n",
    "\n",
    "## Drop NULL values\n",
    "dataset_orig = dataset_orig.dropna()\n",
    "\n",
    "\n",
    "## Change symbolics to numerics\n",
    "dataset_orig['sex'] = np.where(dataset_orig['sex'] == 'Female', 1, 0)\n",
    "dataset_orig['race'] = np.where(dataset_orig['race'] != 'Caucasian', 0, 1)\n",
    "\n",
    "\n",
    "\n",
    "## Rename class column\n",
    "dataset_orig.rename(index=str, columns={\"two_year_recid\": \"Probability\"}, inplace=True)\n",
    "\n",
    "## Here did not rec means 0 is the favorable lable\n",
    "# dataset_orig['Probability'] = np.where(dataset_orig['Probability'] == 0, 1, 0)\n",
    "\n",
    "np.random.seed(0)\n",
    "# divide the data based on sex\n",
    "dataset_orig_male , dataset_orig_female = [x for _, x in dataset_orig.groupby(dataset_orig['sex'] == 0)]\n",
    "\n",
    "print(dataset_orig_male.shape)\n",
    "print(dataset_orig_female.shape)\n",
    "print(dataset_orig_female.columns)"
   ]
  },
  {
   "cell_type": "code",
   "execution_count": 11,
   "metadata": {},
   "outputs": [
    {
     "name": "stdout",
     "output_type": "stream",
     "text": [
      "0    897\n",
      "1    498\n",
      "Name: Probability, dtype: int64\n"
     ]
    }
   ],
   "source": [
    "print(dataset_orig_male['Probability'].value_counts())"
   ]
  },
  {
   "cell_type": "code",
   "execution_count": 12,
   "metadata": {},
   "outputs": [
    {
     "name": "stdout",
     "output_type": "stream",
     "text": [
      "0    3066\n",
      "1    2753\n",
      "Name: Probability, dtype: int64\n"
     ]
    }
   ],
   "source": [
    "print(dataset_orig_female['Probability'].value_counts())"
   ]
  },
  {
   "cell_type": "code",
   "execution_count": null,
   "metadata": {},
   "outputs": [],
   "source": []
  }
 ],
 "metadata": {
  "kernelspec": {
   "display_name": "Python 3",
   "language": "python",
   "name": "python3"
  },
  "language_info": {
   "codemirror_mode": {
    "name": "ipython",
    "version": 3
   },
   "file_extension": ".py",
   "mimetype": "text/x-python",
   "name": "python",
   "nbconvert_exporter": "python",
   "pygments_lexer": "ipython3",
   "version": "3.6.4"
  }
 },
 "nbformat": 4,
 "nbformat_minor": 2
}
