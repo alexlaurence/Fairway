{
 "cells": [
  {
   "cell_type": "code",
   "execution_count": null,
   "metadata": {},
   "outputs": [],
   "source": [
    "### Here I am checking the class distribution for privileged and unprivileged groups\n",
    "\n",
    "import pandas as pd\n",
    "import random,time\n",
    "import numpy as np\n",
    "import math,copy,os\n",
    "from sklearn.linear_model import LogisticRegression\n",
    "from sklearn.tree import DecisionTreeRegressor\n",
    "from sklearn.model_selection import train_test_split\n",
    "from sklearn.metrics import classification_report, confusion_matrix, accuracy_score\n",
    "from sklearn import tree\n",
    "from sklearn.naive_bayes import GaussianNB\n",
    "from sklearn.ensemble import RandomForestClassifier\n",
    "from sklearn.svm import SVC\n",
    "import sklearn.metrics as metrics\n",
    "\n",
    "import sys\n",
    "sys.path.append(os.path.abspath('..'))\n",
    "\n",
    "from Measure import measure_final_score,calculate_recall,calculate_far,calculate_precision,calculate_accuracy"
   ]
  },
  {
   "cell_type": "code",
   "execution_count": 6,
   "metadata": {},
   "outputs": [
    {
     "name": "stdout",
     "output_type": "stream",
     "text": [
      "(11888, 25)\n",
      "(18112, 25)\n"
     ]
    }
   ],
   "source": [
    "## Load dataset\n",
    "dataset_orig = pd.read_csv('../dataset/default_of_credit_card_clients_first_row_removed.csv')\n",
    "\n",
    "\n",
    "\n",
    "## Drop categorical features\n",
    "\n",
    "\n",
    "## Change column values\n",
    "\n",
    "dataset_orig['sex'] = np.where(dataset_orig['sex'] == 2, 0,1)\n",
    "\n",
    "\n",
    "## Drop NULL values\n",
    "dataset_orig = dataset_orig.dropna()\n",
    "\n",
    "\n",
    "# divide the data based on sex\n",
    "dataset_orig_male , dataset_orig_female = [x for _, x in dataset_orig.groupby(dataset_orig['sex'] == 0)]\n",
    "\n",
    "print(dataset_orig_male.shape)\n",
    "print(dataset_orig_female.shape)"
   ]
  },
  {
   "cell_type": "code",
   "execution_count": 4,
   "metadata": {},
   "outputs": [
    {
     "name": "stdout",
     "output_type": "stream",
     "text": [
      "0.0    9015\n",
      "1.0    2873\n",
      "Name: Probability, dtype: int64\n"
     ]
    }
   ],
   "source": [
    "print(dataset_orig_male['Probability'].value_counts())"
   ]
  },
  {
   "cell_type": "code",
   "execution_count": 5,
   "metadata": {},
   "outputs": [
    {
     "name": "stdout",
     "output_type": "stream",
     "text": [
      "0.0    14349\n",
      "1.0     3763\n",
      "Name: Probability, dtype: int64\n"
     ]
    }
   ],
   "source": [
    "print(dataset_orig_female['Probability'].value_counts())"
   ]
  },
  {
   "cell_type": "code",
   "execution_count": null,
   "metadata": {},
   "outputs": [],
   "source": []
  }
 ],
 "metadata": {
  "kernelspec": {
   "display_name": "Python 3",
   "language": "python",
   "name": "python3"
  },
  "language_info": {
   "codemirror_mode": {
    "name": "ipython",
    "version": 3
   },
   "file_extension": ".py",
   "mimetype": "text/x-python",
   "name": "python",
   "nbconvert_exporter": "python",
   "pygments_lexer": "ipython3",
   "version": "3.6.4"
  }
 },
 "nbformat": 4,
 "nbformat_minor": 2
}
