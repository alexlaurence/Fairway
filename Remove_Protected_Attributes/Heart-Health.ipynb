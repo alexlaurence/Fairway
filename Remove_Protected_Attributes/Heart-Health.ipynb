{
 "cells": [
  {
   "cell_type": "code",
   "execution_count": null,
   "metadata": {},
   "outputs": [],
   "source": [
    "## Here I am removing all the protected features to see the difference from normal\n",
    "\n",
    "import pandas as pd\n",
    "import random,time\n",
    "import numpy as np\n",
    "import math,copy\n",
    "from sklearn.linear_model import LogisticRegression\n",
    "from sklearn.tree import DecisionTreeRegressor\n",
    "from sklearn.model_selection import train_test_split\n",
    "from sklearn.metrics import classification_report, confusion_matrix, accuracy_score\n",
    "from sklearn import tree\n",
    "from sklearn.naive_bayes import GaussianNB\n",
    "from sklearn.ensemble import RandomForestClassifier\n",
    "from sklearn.svm import SVC\n",
    "import sklearn.metrics as metrics\n",
    "\n",
    "\n",
    "from Measure import measure_final_score,calculate_recall,calculate_far,calculate_precision,calculate_accuracy"
   ]
  },
  {
   "cell_type": "code",
   "execution_count": null,
   "metadata": {},
   "outputs": [],
   "source": [
    "## Load dataset\n",
    "from sklearn import preprocessing\n",
    "dataset_orig = pd.read_csv('dataset/processed.cleveland.data.csv')\n",
    "\n",
    "## Drop NULL values\n",
    "dataset_orig = dataset_orig.dropna()\n",
    "\n",
    "\n",
    "## calculate mean of age column\n",
    "mean = dataset_orig.loc[:,\"age\"].mean()\n",
    "dataset_orig['age'] = np.where(dataset_orig['age'] >= mean, 1, 0)\n",
    "\n",
    "## Make goal column binary\n",
    "dataset_orig['Probability'] = np.where(dataset_orig['Probability'] > 0, 1, 0)\n",
    "\n",
    "\n",
    "from sklearn.preprocessing import MinMaxScaler\n",
    "\n",
    "scaler = MinMaxScaler()\n",
    "dataset_orig = pd.DataFrame(scaler.fit_transform(dataset_orig),columns = dataset_orig.columns)\n",
    "\n",
    "\n",
    "# dataset_orig"
   ]
  },
  {
   "cell_type": "markdown",
   "metadata": {},
   "source": [
    "# Results with protected attributes"
   ]
  },
  {
   "cell_type": "code",
   "execution_count": null,
   "metadata": {},
   "outputs": [],
   "source": [
    "np.random.seed(0)\n",
    "## Divide into train,validation,test\n",
    "dataset_orig_train, dataset_orig_test = train_test_split(dataset_orig, test_size=0.2, random_state=0,shuffle = True)\n",
    "\n",
    "X_train, y_train = dataset_orig_train.loc[:, dataset_orig_train.columns != 'Probability'], dataset_orig_train['Probability']\n",
    "X_test , y_test = dataset_orig_test.loc[:, dataset_orig_test.columns != 'Probability'], dataset_orig_test['Probability']\n",
    "\n",
    "# --- LSR\n",
    "clf = LogisticRegression(C=1.0, penalty='l2', solver='liblinear', max_iter=100)\n",
    "# --- CART\n",
    "# clf = tree.DecisionTreeClassifier()\n",
    "\n",
    "clf.fit(X_train, y_train)\n",
    "y_pred = clf.predict(X_test)\n",
    "cnf_matrix_test = confusion_matrix(y_test,y_pred)\n",
    "\n",
    "print(cnf_matrix_test)\n",
    "TN, FP, FN, TP = confusion_matrix(y_test,y_pred).ravel()\n",
    "\n",
    "\n",
    "print(\"recall :\", measure_final_score(dataset_orig_test, clf, X_train, y_train, X_test, y_test, 'age', 'recall'))\n",
    "print(\"far :\",measure_final_score(dataset_orig_test, clf, X_train, y_train, X_test, y_test, 'age', 'far'))\n",
    "print(\"precision :\", measure_final_score(dataset_orig_test, clf, X_train, y_train, X_test, y_test, 'age', 'precision'))\n",
    "print(\"accuracy :\",measure_final_score(dataset_orig_test, clf, X_train, y_train, X_test, y_test, 'age', 'accuracy'))\n",
    "print(\"aod age:\",measure_final_score(dataset_orig_test, clf, X_train, y_train, X_test, y_test, 'age', 'aod'))\n",
    "print(\"eod age:\",measure_final_score(dataset_orig_test, clf, X_train, y_train, X_test, y_test, 'age', 'eod'))\n",
    "\n",
    "\n",
    "print(\"Precision\", metrics.precision_score(y_test,y_pred))\n",
    "print(\"Recall\", metrics.recall_score(y_test,y_pred))\n",
    "print(X_train.columns)\n",
    "print(clf.coef_)\n",
    "\n",
    "\n",
    "import matplotlib.pyplot as plt\n",
    "y = np.arange(len(dataset_orig.columns)-1)\n",
    "plt.barh(y,clf.coef_[0])\n",
    "plt.yticks(y,dataset_orig_train.columns)\n",
    "plt.show()"
   ]
  },
  {
   "cell_type": "markdown",
   "metadata": {},
   "source": [
    "# Results without protected attributes"
   ]
  },
  {
   "cell_type": "code",
   "execution_count": null,
   "metadata": {},
   "outputs": [],
   "source": [
    "## Drop age\n",
    "dataset_orig = dataset_orig.drop(['age'],axis=1)\n",
    "\n",
    "\n",
    "np.random.seed(0)\n",
    "## Divide into train,validation,test\n",
    "dataset_orig_train, dataset_orig_test = train_test_split(dataset_orig, test_size=0.2, random_state=0,shuffle = True)\n",
    "\n",
    "X_train, y_train = dataset_orig_train.loc[:, dataset_orig_train.columns != 'Probability'], dataset_orig_train['Probability']\n",
    "X_test , y_test = dataset_orig_test.loc[:, dataset_orig_test.columns != 'Probability'], dataset_orig_test['Probability']\n",
    "\n",
    "# --- LSR\n",
    "clf = LogisticRegression(C=1.0, penalty='l2', solver='liblinear', max_iter=100)\n",
    "# --- CART\n",
    "# clf = tree.DecisionTreeClassifier()\n",
    "\n",
    "clf.fit(X_train, y_train)\n",
    "y_pred = clf.predict(X_test)\n",
    "cnf_matrix_test = confusion_matrix(y_test,y_pred)\n",
    "\n",
    "print(cnf_matrix_test)\n",
    "TN, FP, FN, TP = confusion_matrix(y_test,y_pred).ravel()\n",
    "\n",
    "print(\"recall :\", calculate_recall(TP,FP,FN,TN))\n",
    "print(\"far :\",calculate_far(TP,FP,FN,TN))\n",
    "print(\"precision :\", calculate_precision(TP,FP,FN,TN))\n",
    "print(\"accuracy :\",calculate_accuracy(TP,FP,FN,TN))\n",
    "\n",
    "\n",
    "print(X_train.columns)\n",
    "print(clf.coef_)"
   ]
  },
  {
   "cell_type": "code",
   "execution_count": null,
   "metadata": {},
   "outputs": [],
   "source": []
  }
 ],
 "metadata": {
  "kernelspec": {
   "display_name": "Python 3",
   "language": "python",
   "name": "python3"
  },
  "language_info": {
   "codemirror_mode": {
    "name": "ipython",
    "version": 3
   },
   "file_extension": ".py",
   "mimetype": "text/x-python",
   "name": "python",
   "nbconvert_exporter": "python",
   "pygments_lexer": "ipython3",
   "version": "3.6.4"
  }
 },
 "nbformat": 4,
 "nbformat_minor": 2
}
