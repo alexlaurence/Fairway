{
 "cells": [
  {
   "cell_type": "code",
   "execution_count": null,
   "metadata": {},
   "outputs": [],
   "source": [
    "## Here I am dividing the data first based onto protected attribute value and then train two separate models\n",
    "\n",
    "import pandas as pd\n",
    "import random,time\n",
    "import numpy as np\n",
    "import math,copy,os\n",
    "from sklearn.linear_model import LogisticRegression\n",
    "from sklearn.tree import DecisionTreeRegressor\n",
    "from sklearn.model_selection import train_test_split\n",
    "from sklearn.metrics import classification_report, confusion_matrix, accuracy_score\n",
    "from sklearn import tree\n",
    "from sklearn.naive_bayes import GaussianNB\n",
    "from sklearn.ensemble import RandomForestClassifier\n",
    "from sklearn.svm import SVC\n",
    "\n",
    "import sys\n",
    "sys.path.append(os.path.abspath('..'))\n",
    "\n",
    "from Measure import measure_final_score,calculate_recall,calculate_far,calculate_precision,calculate_accuracy"
   ]
  },
  {
   "cell_type": "code",
   "execution_count": null,
   "metadata": {},
   "outputs": [],
   "source": [
    "## Load dataset\n",
    "dataset_orig = pd.read_csv('../dataset/compas-scores-two-years.csv')\n",
    "\n",
    "\n",
    "\n",
    "## Drop categorical features\n",
    "## Removed two duplicate coumns - 'decile_score','priors_count'\n",
    "dataset_orig = dataset_orig.drop(['id','name','first','last','compas_screening_date','dob','age','juv_fel_count','decile_score','juv_misd_count','juv_other_count','days_b_screening_arrest','c_jail_in','c_jail_out','c_case_number','c_offense_date','c_arrest_date','c_days_from_compas','c_charge_desc','is_recid','r_case_number','r_charge_degree','r_days_from_arrest','r_offense_date','r_charge_desc','r_jail_in','r_jail_out','violent_recid','is_violent_recid','vr_case_number','vr_charge_degree','vr_offense_date','vr_charge_desc','type_of_assessment','decile_score','score_text','screening_date','v_type_of_assessment','v_decile_score','v_score_text','v_screening_date','in_custody','out_custody','start','end','event'],axis=1)\n",
    "\n",
    "## Drop NULL values\n",
    "dataset_orig = dataset_orig.dropna()\n",
    "\n",
    "\n",
    "## Change symbolics to numerics\n",
    "dataset_orig['sex'] = np.where(dataset_orig['sex'] == 'Female', 1, 0)\n",
    "dataset_orig['race'] = np.where(dataset_orig['race'] != 'Caucasian', 0, 1)\n",
    "dataset_orig['priors_count'] = np.where((dataset_orig['priors_count'] >= 1 ) & (dataset_orig['priors_count'] <= 3), 3, dataset_orig['priors_count'])\n",
    "dataset_orig['priors_count'] = np.where(dataset_orig['priors_count'] > 3, 4, dataset_orig['priors_count'])\n",
    "dataset_orig['age_cat'] = np.where(dataset_orig['age_cat'] == 'Greater than 45',45,dataset_orig['age_cat'])\n",
    "dataset_orig['age_cat'] = np.where(dataset_orig['age_cat'] == '25 - 45', 25, dataset_orig['age_cat'])\n",
    "dataset_orig['age_cat'] = np.where(dataset_orig['age_cat'] == 'Less than 25', 0, dataset_orig['age_cat'])\n",
    "dataset_orig['c_charge_degree'] = np.where(dataset_orig['c_charge_degree'] == 'F', 1, 0)\n",
    "\n",
    "\n",
    "## Rename class column\n",
    "dataset_orig.rename(index=str, columns={\"two_year_recid\": \"Probability\"}, inplace=True)\n",
    "\n",
    "## Here did not rec means 0 is the favorable lable\n",
    "# dataset_orig['Probability'] = np.where(dataset_orig['Probability'] == 0, 1, 0)\n",
    "\n",
    "from sklearn.preprocessing import MinMaxScaler\n",
    "\n",
    "scaler = MinMaxScaler()\n",
    "dataset_orig = pd.DataFrame(scaler.fit_transform(dataset_orig),columns = dataset_orig.columns)\n",
    "\n",
    "\n",
    "# divide the data based on sex\n",
    "dataset_orig_male , dataset_orig_female = [x for _, x in dataset_orig.groupby(dataset_orig['sex'] == 0)]\n",
    "\n",
    "# divide the data based on race\n",
    "dataset_orig_male_white , dataset_orig_male_black = [x for _, x in dataset_orig_male.groupby(dataset_orig['race'] == 0)]\n",
    "dataset_orig_female_white , dataset_orig_female_black = [x for _, x in dataset_orig_female.groupby(dataset_orig['race'] == 0)]\n",
    "\n",
    "print(dataset_orig_male_white.shape)\n",
    "print(dataset_orig_male_black.shape)\n",
    "print(dataset_orig_female_white.shape)\n",
    "print(dataset_orig_female_black.shape)"
   ]
  },
  {
   "cell_type": "markdown",
   "metadata": {},
   "source": [
    "# Train the model for male white"
   ]
  },
  {
   "cell_type": "code",
   "execution_count": null,
   "metadata": {},
   "outputs": [],
   "source": [
    "dataset_orig_male_white['race'] = 0\n",
    "dataset_orig_male_white['sex'] = 0\n",
    "X_train, y_train = dataset_orig_male_white.loc[:, dataset_orig_male_white.columns != 'Probability'], dataset_orig_male_white['Probability']\n",
    "# --- LSR\n",
    "clf1 = LogisticRegression(C=1.0, penalty='l2', solver='liblinear', max_iter=100)\n",
    "clf1.fit(X_train, y_train)\n",
    "\n",
    "# print(X_train_male['sex'])\n",
    "import matplotlib.pyplot as plt\n",
    "y = np.arange(len(dataset_orig_male_white.columns)-1)\n",
    "plt.barh(y,clf1.coef_[0])\n",
    "plt.yticks(y,dataset_orig_male_white.columns)\n",
    "plt.show()\n",
    "\n",
    "print(clf1.coef_[0])"
   ]
  },
  {
   "cell_type": "markdown",
   "metadata": {},
   "source": [
    "# Train the model for male black"
   ]
  },
  {
   "cell_type": "code",
   "execution_count": null,
   "metadata": {},
   "outputs": [],
   "source": [
    "dataset_orig_male_black['race'] = 0\n",
    "dataset_orig_male_black['sex'] = 0\n",
    "X_train, y_train = dataset_orig_male_black.loc[:, dataset_orig_male_black.columns != 'Probability'], dataset_orig_male_black['Probability']\n",
    "# --- LSR\n",
    "clf2 = LogisticRegression(C=1.0, penalty='l2', solver='liblinear', max_iter=100)\n",
    "clf2.fit(X_train, y_train)\n",
    "\n",
    "# print(X_train_male['sex'])\n",
    "import matplotlib.pyplot as plt\n",
    "y = np.arange(len(dataset_orig_male_black.columns)-1)\n",
    "plt.barh(y,clf2.coef_[0])\n",
    "plt.yticks(y,dataset_orig_male_black.columns)\n",
    "plt.show()\n",
    "\n",
    "print(clf2.coef_[0])"
   ]
  },
  {
   "cell_type": "markdown",
   "metadata": {},
   "source": [
    "# Train the model for female white"
   ]
  },
  {
   "cell_type": "code",
   "execution_count": null,
   "metadata": {},
   "outputs": [],
   "source": [
    "dataset_orig_female_white['race'] = 0\n",
    "dataset_orig_female_white['sex'] = 0\n",
    "X_train, y_train = dataset_orig_female_white.loc[:, dataset_orig_female_white.columns != 'Probability'], dataset_orig_female_white['Probability']\n",
    "# --- LSR\n",
    "clf3 = LogisticRegression(C=1.0, penalty='l2', solver='liblinear', max_iter=100)\n",
    "clf3.fit(X_train, y_train)\n",
    "\n",
    "# print(X_train_male['sex'])\n",
    "import matplotlib.pyplot as plt\n",
    "y = np.arange(len(dataset_orig_female_white.columns)-1)\n",
    "plt.barh(y,clf3.coef_[0])\n",
    "plt.yticks(y,dataset_orig_female_white.columns)\n",
    "plt.show()\n",
    "\n",
    "print(clf3.coef_[0])"
   ]
  },
  {
   "cell_type": "markdown",
   "metadata": {},
   "source": [
    "# Train the model for female black"
   ]
  },
  {
   "cell_type": "code",
   "execution_count": null,
   "metadata": {},
   "outputs": [],
   "source": [
    "dataset_orig_female_black['race'] = 0\n",
    "dataset_orig_female_black['sex'] = 0\n",
    "X_train, y_train = dataset_orig_female_black.loc[:, dataset_orig_female_black.columns != 'Probability'], dataset_orig_female_black['Probability']\n",
    "# --- LSR\n",
    "clf4 = LogisticRegression(C=1.0, penalty='l2', solver='liblinear', max_iter=100)\n",
    "clf4.fit(X_train, y_train)\n",
    "\n",
    "# print(X_train_male['sex'])\n",
    "import matplotlib.pyplot as plt\n",
    "y = np.arange(len(dataset_orig_female_black.columns)-1)\n",
    "plt.barh(y,clf4.coef_[0])\n",
    "plt.yticks(y,dataset_orig_female_black.columns)\n",
    "plt.show()\n",
    "\n",
    "print(clf4.coef_[0])"
   ]
  },
  {
   "cell_type": "markdown",
   "metadata": {},
   "source": [
    "# Remove biased rows"
   ]
  },
  {
   "cell_type": "code",
   "execution_count": null,
   "metadata": {},
   "outputs": [],
   "source": [
    "print(dataset_orig.shape)\n",
    "\n",
    "for index,row in dataset_orig.iterrows():    \n",
    "    row = [row.values[0:len(row.values)-1]]\n",
    "    y_male_white = clf1.predict(row)\n",
    "    y_male_black = clf2.predict(row)\n",
    "    y_female_white = clf3.predict(row)\n",
    "    y_female_black = clf4.predict(row)\n",
    "    if not((y_male_white[0] == y_male_black[0]) and (y_male_black[0] == y_female_white[0]) and (y_female_white[0] == y_female_black[0])):\n",
    "        dataset_orig = dataset_orig.drop(index)\n",
    "#     else:\n",
    "#         print(y_male_white[0],y_male_black[0],y_female_white[0],y_female_black[0])\n",
    "    \n",
    "print(dataset_orig.shape)"
   ]
  },
  {
   "cell_type": "markdown",
   "metadata": {},
   "source": [
    "# Train and test on unbiased data"
   ]
  },
  {
   "cell_type": "code",
   "execution_count": null,
   "metadata": {},
   "outputs": [],
   "source": [
    "print(dataset_orig.shape)\n",
    "np.random.seed(0)\n",
    "## Divide into train,validation,test\n",
    "dataset_orig_train, dataset_orig_test = train_test_split(dataset_orig, test_size=0.2, random_state=0,shuffle = True)\n",
    "\n",
    "X_train, y_train = dataset_orig_train.loc[:, dataset_orig_train.columns != 'Probability'], dataset_orig_train['Probability']\n",
    "X_test , y_test = dataset_orig_test.loc[:, dataset_orig_test.columns != 'Probability'], dataset_orig_test['Probability']\n",
    "\n",
    "# --- LSR\n",
    "clf = LogisticRegression(C=1.0, penalty='l2', solver='liblinear', max_iter=100)\n",
    "# --- CART\n",
    "# clf = tree.DecisionTreeClassifier()\n",
    "\n",
    "# clf.fit(X_train, y_train)\n",
    "# import matplotlib.pyplot as plt\n",
    "# y = np.arange(len(dataset_orig_train.columns)-1)\n",
    "# plt.barh(y,clf.coef_[0])\n",
    "# plt.yticks(y,dataset_orig_train.columns)\n",
    "# plt.show()\n",
    "\n",
    "# print(clf_male.coef_[0])\n",
    "# y_pred = clf.predict(X_test)\n",
    "# cnf_matrix_test = confusion_matrix(y_test,y_pred)\n",
    "\n",
    "# print(cnf_matrix_test)\n",
    "# TN, FP, FN, TP = confusion_matrix(y_test,y_pred).ravel()\n",
    "\n",
    "\n",
    "print(\"recall :\", measure_final_score(dataset_orig_test, clf, X_train, y_train, X_test, y_test, 'race', 'recall'))\n",
    "print(\"far :\",measure_final_score(dataset_orig_test, clf, X_train, y_train, X_test, y_test, 'race', 'far'))\n",
    "print(\"precision :\", measure_final_score(dataset_orig_test, clf, X_train, y_train, X_test, y_test, 'race', 'precision'))\n",
    "print(\"accuracy :\",measure_final_score(dataset_orig_test, clf, X_train, y_train, X_test, y_test, 'race', 'accuracy'))\n",
    "print(\"aod sex:\",measure_final_score(dataset_orig_test, clf, X_train, y_train, X_test, y_test, 'race', 'aod'))\n",
    "print(\"eod sex:\",measure_final_score(dataset_orig_test, clf, X_train, y_train, X_test, y_test, 'race', 'eod'))\n",
    "\n",
    "print(\"TPR:\",measure_final_score(dataset_orig_test, clf, X_train, y_train, X_test, y_test, 'sex', 'TPR'))\n",
    "print(\"FPR:\",measure_final_score(dataset_orig_test, clf, X_train, y_train, X_test, y_test, 'sex', 'FPR'))"
   ]
  },
  {
   "cell_type": "code",
   "execution_count": null,
   "metadata": {},
   "outputs": [],
   "source": []
  }
 ],
 "metadata": {
  "kernelspec": {
   "display_name": "Python 3",
   "language": "python",
   "name": "python3"
  },
  "language_info": {
   "codemirror_mode": {
    "name": "ipython",
    "version": 3
   },
   "file_extension": ".py",
   "mimetype": "text/x-python",
   "name": "python",
   "nbconvert_exporter": "python",
   "pygments_lexer": "ipython3",
   "version": "3.6.4"
  }
 },
 "nbformat": 4,
 "nbformat_minor": 2
}
